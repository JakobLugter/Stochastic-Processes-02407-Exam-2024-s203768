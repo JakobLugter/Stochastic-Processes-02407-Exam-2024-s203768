{
 "cells": [
  {
   "cell_type": "markdown",
   "metadata": {},
   "source": [
    "# Question 7"
   ]
  },
  {
   "cell_type": "code",
   "execution_count": 2,
   "metadata": {},
   "outputs": [
    {
     "name": "stdout",
     "output_type": "stream",
     "text": [
      "The probability of X(t) >= 7 at some point in the first 24 hours is: 0.0736\n"
     ]
    }
   ],
   "source": [
    "import numpy as np\n",
    "import matplotlib.pyplot as plt\n",
    "\n",
    "lam = 1/3  \n",
    "mu = 1/8      \n",
    "max_time = 24        \n",
    "max_state = 7        \n",
    "\n",
    "dt = 0.01           \n",
    "n = int(max_time / dt)  \n",
    "\n",
    "states = np.arange(0, max_state + 1)\n",
    "times = np.linspace(0, max_time, n + 1)\n",
    "\n",
    "p = np.zeros((len(states), len(times)))\n",
    "p[max_state, :] = 1\n",
    "\n",
    "for j in reversed(range(len(times) - 1)):\n",
    "    for i in range(max_state):\n",
    "        # Kolmogorov backward equation\n",
    "        birth = lam * (p[i + 1, j + 1] if i + 1 < len(states) else 0)\n",
    "        death = mu  * i * (p[i - 1, j + 1] if i - 1 >= 0 else 0)\n",
    "        stay = -(lam + i * mu) * p[i, j + 1]\n",
    "        \n",
    "        p[i, j] = p[i, j + 1] + dt * (birth + death + stay)\n",
    "\n",
    "# Initial probability at t=0 with state=0\n",
    "p0 = p[0, 0]\n",
    "\n",
    "print(f\"The probability of X(t) >= 7 at some point in the first 24 hours is: {p0:.4f}\")"
   ]
  }
 ],
 "metadata": {
  "kernelspec": {
   "display_name": "Python 3",
   "language": "python",
   "name": "python3"
  },
  "language_info": {
   "codemirror_mode": {
    "name": "ipython",
    "version": 3
   },
   "file_extension": ".py",
   "mimetype": "text/x-python",
   "name": "python",
   "nbconvert_exporter": "python",
   "pygments_lexer": "ipython3",
   "version": "3.10.11"
  }
 },
 "nbformat": 4,
 "nbformat_minor": 2
}
