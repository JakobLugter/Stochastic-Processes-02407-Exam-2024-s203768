{
 "cells": [
  {
   "cell_type": "markdown",
   "metadata": {},
   "source": [
    "# Question 11 - The wrong way using theory"
   ]
  },
  {
   "cell_type": "code",
   "execution_count": 2,
   "metadata": {},
   "outputs": [
    {
     "name": "stdout",
     "output_type": "stream",
     "text": [
      "0.004583333333333333\n",
      "6.806249999999995\n",
      "0.25208333333333316\n"
     ]
    }
   ],
   "source": [
    "alpha = 4/3\n",
    "mean = 10\n",
    "theta = mean / alpha  \n",
    "p = 1/10\n",
    "lam = 9\n",
    "mean_minutes = mean / 60\n",
    "\n",
    "\n",
    "nu = 5/60 + mean_minutes * p\n",
    "\n",
    "tausq = p*(1 - p)  * (alpha * theta**2)/(60**2) + p*(1-p) * mean_minutes**2 + (alpha * theta**2)/(60**2) * (1 / 100)\n",
    "\n",
    "# Check tausq lines up with the theoretical value\n",
    "print(tausq)\n",
    "rho = lam * nu\n",
    "L = (rho + (lam**2 * tausq + rho**2) / (2 * (1 - rho)))\n",
    "print(L)\n",
    "print(L/27)"
   ]
  },
  {
   "cell_type": "markdown",
   "metadata": {},
   "source": [
    "# Question 11 + 12  simulation"
   ]
  },
  {
   "cell_type": "code",
   "execution_count": 3,
   "metadata": {},
   "outputs": [
    {
     "name": "stdout",
     "output_type": "stream",
     "text": [
      "Mean number of multimorbid patients in the queue\n",
      "CI: [0.03339858 0.04975547], mean: 0.04034909302272287\n",
      "Mean number of patients in the queue\n",
      "CI: [1.02791963 1.14647339], mean: 1.083429597021673\n",
      "Theoretical mean number of patients in the queue\n",
      "6.806249999999995\n",
      "Theoretical mean number of multimorbid patients in the queue\n",
      "0.2527793993607385\n",
      "Arrival rate\n",
      "9.010399999999999\n",
      "Arrival rate of multimorbid patients\n",
      "0.33464\n",
      "Variance of multimorbid in queue\n",
      "CI: [0.03339493 0.05409755], mean: 0.04147458415061953\n"
     ]
    }
   ],
   "source": [
    "from scipy.stats import gamma\n",
    "import numpy as np\n",
    "\n",
    "alpha = 4/3\n",
    "mean = 10\n",
    "beta = alpha / mean\n",
    "beta = beta\n",
    "\n",
    "arrival_rate = 9\n",
    "service_k = 5\n",
    "\n",
    "n = 50000\n",
    "M = 400\n",
    "means_multimorbid = np.zeros(M)\n",
    "means_patients = np.zeros(M)\n",
    "total_customers_m = np.zeros(M)\n",
    "total_customers_mm_m = np.zeros(M)\n",
    "var_multimorbid = np.zeros(M)\n",
    "for m in range(M):\n",
    "    in_queue = 0\n",
    "    time = 0\n",
    "    max_time = 500 # Hours\n",
    "    step_time = 0.001\n",
    "    times_for_service_completion = []\n",
    "    service_times_store = []\n",
    "    multimorbid_served = 0\n",
    "    customers_served = 0\n",
    "\n",
    "\n",
    "    queue_at_time = []\n",
    "    customers_in_queue = []\n",
    "\n",
    "    multimorbid_in_queue = 0\n",
    "    patients_in_queue = 0\n",
    "\n",
    "    multimorbid_in_queue_at_time = []\n",
    "    patients_in_queue_at_time = []\n",
    "\n",
    "    p_delay = 1/10\n",
    "    p_multimorbid = 1/27\n",
    "\n",
    "    while time < max_time:\n",
    "        time += step_time\n",
    "        # Check if a customer arrives\n",
    "        p_arrival = arrival_rate * step_time \n",
    "        if np.random.rand() < p_arrival:\n",
    "            customers_served += 1\n",
    "            # Patient arrives\n",
    "            # Determine type of patient\n",
    "            if np.random.rand() < p_multimorbid:\n",
    "                customers_in_queue.append(1)\n",
    "                multimorbid_served += 1\n",
    "            else:\n",
    "                customers_in_queue.append(0)\n",
    "            # Determine the service time\n",
    "            if np.random.rand() < p_delay:\n",
    "                service_time = service_k / 60 + gamma.rvs(a = alpha, scale = 1/beta)/60\n",
    "            else:\n",
    "                service_time = service_k / 60\n",
    "            times_for_service_completion.append(time + service_time)\n",
    "            service_times_store.append(service_time)\n",
    "\n",
    "        # Check if a customer is served\n",
    "        while len(times_for_service_completion) > 0 and times_for_service_completion[0] <= time:\n",
    "            times_for_service_completion.pop(0)\n",
    "            customers_in_queue.pop(0)\n",
    "        \n",
    "        # Update the number of customers in the queue\n",
    "        total_customers = len(customers_in_queue)\n",
    "        multimorbid_customers = sum(customers_in_queue)\n",
    "\n",
    "        multimorbid_in_queue_at_time.append(multimorbid_customers)\n",
    "        patients_in_queue_at_time.append(total_customers)\n",
    "\n",
    "    means_multimorbid[m] = np.mean(multimorbid_in_queue_at_time[20000:])\n",
    "    means_patients[m] = np.mean(patients_in_queue_at_time[20000:])\n",
    "    total_customers_m[m] = customers_served\n",
    "    total_customers_mm_m[m] = multimorbid_served\n",
    "    var_multimorbid[m] = np.var(multimorbid_in_queue_at_time[20000:])\n",
    "\n",
    "print(\"Mean number of multimorbid patients in the queue\")\n",
    "print(f'CI: {np.quantile(means_multimorbid, [0.025, 0.975])}, mean: {np.mean(means_multimorbid)}')\n",
    "print(\"Mean number of patients in the queue\")\n",
    "print(f'CI: {np.quantile(means_patients, [0.025, 0.975])}, mean: {np.mean(means_patients)}')\n",
    "print(\"Theoretical mean number of patients in the queue\")\n",
    "print(L)\n",
    "print(\"Theoretical mean number of multimorbid patients in the queue\")\n",
    "print(L * np.mean(total_customers_mm_m) / np.mean(total_customers_m))\n",
    "print(\"Arrival rate\")\n",
    "print(np.mean(total_customers_m) / max_time)\n",
    "print(\"Arrival rate of multimorbid patients\")\n",
    "print(np.mean(total_customers_mm_m) / max_time)\n",
    "\n",
    "print(\"Variance of multimorbid in queue\")\n",
    "print(f'CI: {np.quantile(var_multimorbid, [0.025, 0.975])}, mean: {np.mean(var_multimorbid)}')"
   ]
  }
 ],
 "metadata": {
  "kernelspec": {
   "display_name": "Python 3",
   "language": "python",
   "name": "python3"
  },
  "language_info": {
   "codemirror_mode": {
    "name": "ipython",
    "version": 3
   },
   "file_extension": ".py",
   "mimetype": "text/x-python",
   "name": "python",
   "nbconvert_exporter": "python",
   "pygments_lexer": "ipython3",
   "version": "3.10.11"
  }
 },
 "nbformat": 4,
 "nbformat_minor": 2
}
