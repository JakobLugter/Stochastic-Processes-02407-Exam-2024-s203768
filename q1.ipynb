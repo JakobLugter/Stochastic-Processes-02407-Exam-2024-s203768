{
 "cells": [
  {
   "cell_type": "markdown",
   "metadata": {},
   "source": [
    "# Q1"
   ]
  },
  {
   "cell_type": "code",
   "execution_count": 2,
   "metadata": {},
   "outputs": [
    {
     "name": "stdout",
     "output_type": "stream",
     "text": [
      "[[0.16       0.192      0.1728     0.13824    0.10368    0.0746496\n",
      "  0.05225472 0.03583181 0.02418647 0.01612431 0.03023309]\n",
      " [0.144      0.1888     0.17472    0.141696   0.107136   0.07755264\n",
      "  0.05449421 0.0374741  0.025351   0.01693053 0.03184552]\n",
      " [0.1296     0.18432    0.176128   0.1449984  0.110592   0.08051098\n",
      "  0.05680005 0.03917611 0.02656331 0.01777258 0.03353857]\n",
      " [0.11664    0.178848   0.1769472  0.14811136 0.11403264 0.08351908\n",
      "  0.05917114 0.0409385  0.02782459 0.01865165 0.03531583]\n",
      " [0.104976   0.1726272  0.17713728 0.15099494 0.11744051 0.08657043\n",
      "  0.06160594 0.04276177 0.02913598 0.01956894 0.037181  ]\n",
      " [0.0944784  0.16586208 0.17668627 0.15360918 0.12079596 0.08965744\n",
      "  0.06410239 0.04464619 0.03049856 0.02052565 0.03913789]\n",
      " [0.08503056 0.15872371 0.17560385 0.15591689 0.12407728 0.09277129\n",
      "  0.06665789 0.04659181 0.03191332 0.02152294 0.04119045]\n",
      " [0.0765275  0.1513544  0.17391584 0.15788558 0.12726124 0.09590189\n",
      "  0.06926923 0.04859841 0.03338117 0.02256198 0.04334275]\n",
      " [0.06887475 0.14387171 0.17165969 0.15948861 0.13032367 0.09903783\n",
      "  0.0719325  0.0506655  0.0349029  0.0236439  0.04559895]\n",
      " [0.06198728 0.13637201 0.1688809  0.16070572 0.13324017 0.10216641\n",
      "  0.07464303 0.0527922  0.03647916 0.0247698  0.04796334]\n",
      " [0.05578855 0.12893354 0.16563001 0.16152324 0.13598672 0.10527379\n",
      "  0.07739537 0.05497728 0.03811046 0.02594073 0.05044032]]\n",
      "[1. 1. 1. 1. 1. 1. 1. 1. 1. 1. 1.]\n"
     ]
    }
   ],
   "source": [
    "import numpy as np\n",
    "from scipy.stats import nbinom, binom, uniform\n",
    "import matplotlib.pyplot as plt\n",
    "import scipy.linalg as la\n",
    "r = 2  \n",
    "q = 0.4\n",
    "p = 0.1  \n",
    "n_states = 11\n",
    "sanity_print_checks = False\n",
    "state_space = range(n_states)\n",
    "\n",
    "\n",
    "P = np.zeros((len(state_space), len(state_space)))\n",
    "ps_patients_arrive = [nbinom.pmf(j, r, q) for j in range(n_states-1)]\n",
    "ps_patients_arrive.append(1 - sum(ps_patients_arrive)) # Remembering that more than 10 patients could arrive, but since we could never admit them anyway, we will just add them to the last possibility\n",
    "\n",
    "for i in state_space:\n",
    "    num_patients = i\n",
    "    ps_patients_healthy = [binom.pmf(j, num_patients, 1-p) for j in range(num_patients+1)]\n",
    "\n",
    "    # We can no loop over all possible transitions\n",
    "    tranistions = len(ps_patients_healthy) * len(ps_patients_arrive)\n",
    "    for k in range(tranistions):\n",
    "        new_healthy_patients = k % len(ps_patients_healthy)\n",
    "        new_arrive_patients = k // len(ps_patients_healthy)\n",
    "\n",
    "        if num_patients - new_healthy_patients + new_arrive_patients <= 10:\n",
    "            j = num_patients - new_healthy_patients + new_arrive_patients\n",
    "            P[i,j] += ps_patients_healthy[new_healthy_patients] * ps_patients_arrive[new_arrive_patients]\n",
    "\n",
    "            if uniform.rvs() <= 0.02 and  sanity_print_checks:\n",
    "                print(f\"Viable transition when starting in {num_patients} and adding {new_arrive_patients} and removing {new_healthy_patients}\")\n",
    "        else:\n",
    "            # If we would exceed the maximum number of patients, we will instead transition to the maximum number of patients\n",
    "            j = n_states - 1\n",
    "            P[i,j] += ps_patients_healthy[new_healthy_patients] * ps_patients_arrive[new_arrive_patients]\n",
    "\n",
    "            if uniform.rvs() <= 0.02 and sanity_print_checks:\n",
    "                print(f\"Declining transition when starting in {num_patients} and adding {new_arrive_patients} and removing {new_healthy_patients}\")\n",
    "\n",
    "print(P)\n",
    "# Sanity check that the rows should sum to 1\n",
    "print(np.sum(P, axis=1))"
   ]
  },
  {
   "cell_type": "markdown",
   "metadata": {},
   "source": [
    "# Q2"
   ]
  },
  {
   "cell_type": "code",
   "execution_count": null,
   "metadata": {},
   "outputs": [],
   "source": [
    "X0 = np.array([1, 0, 0, 0, 0, 0, 0, 0, 0, 0, 0])\n",
    "\n",
    "X12 = np.dot(X0, np.linalg.matrix_power(P, 12))\n",
    "print(X12)\n",
    "mean_number_of_patients_12 = np.dot(X12, state_space)\n",
    "print(mean_number_of_patients_12)"
   ]
  },
  {
   "cell_type": "markdown",
   "metadata": {},
   "source": [
    "# Q3"
   ]
  },
  {
   "cell_type": "code",
   "execution_count": 3,
   "metadata": {},
   "outputs": [
    {
     "name": "stdout",
     "output_type": "stream",
     "text": [
      "(0.9999999999999991+0j)\n",
      "True\n",
      "3.260544862314694\n",
      "17.316634813008026\n",
      "6.685482013841277\n"
     ]
    }
   ],
   "source": [
    "w, vl, vr = la.eig(a = P, left = True)\n",
    "# Check eigenvalue is 1\n",
    "print(w[0])\n",
    "pi = vl[:,0]\n",
    "pi = pi / np.sum(pi)\n",
    "\n",
    "# Check that pi is a stationary distribution\n",
    "print(np.allclose(np.dot(pi, P), pi))\n",
    "\n",
    "mean_number_of_patients = np.dot(pi, state_space)\n",
    "print(mean_number_of_patients)\n",
    "\n",
    "# Variance of expected number of patients\n",
    "state_space = np.array(state_space)\n",
    "variance = np.dot(pi, state_space ** 2) - mean_number_of_patients ** 2\n",
    "print(np.dot(pi, state_space ** 2))\n",
    "print(variance)"
   ]
  },
  {
   "cell_type": "markdown",
   "metadata": {},
   "source": [
    "### Q3 - Simulation\n",
    "Just to check the theoretical values are correct"
   ]
  },
  {
   "cell_type": "code",
   "execution_count": 4,
   "metadata": {},
   "outputs": [
    {
     "name": "stdout",
     "output_type": "stream",
     "text": [
      "3.25232\n",
      "6.6422546176\n"
     ]
    }
   ],
   "source": [
    "n = 100000\n",
    "es = np.zeros(n)\n",
    "for i in range(n):\n",
    "    # Select a random state from the stationary distribution\n",
    "    state = np.random.choice(state_space, p=pi)\n",
    "    es[i] = state\n",
    "\n",
    "print(np.mean(es))\n",
    "print(np.var(es))"
   ]
  },
  {
   "cell_type": "markdown",
   "metadata": {},
   "source": [
    "# Q4"
   ]
  },
  {
   "cell_type": "code",
   "execution_count": 7,
   "metadata": {},
   "outputs": [
    {
     "name": "stdout",
     "output_type": "stream",
     "text": [
      "[7.35933720e-01 4.20383111e-03 4.22164919e-03 3.57472091e-03\n",
      " 2.77214749e-03 2.03985244e-03 1.44985953e-03 1.00548492e-03\n",
      " 6.84632478e-04 4.59584404e-04 2.43654518e-01]\n",
      "0.9795882375313745\n"
     ]
    }
   ],
   "source": [
    "P_abs = P.copy()\n",
    "P_abs[0,1:11] = 0\n",
    "P_abs[10,0:10] = 0\n",
    "P_abs[10,10] = 1\n",
    "P_abs[0,0] = 1\n",
    "\n",
    "x0 = np.array([0, 0, 0, 0, 0, 1, 0, 0, 0, 0,0])\n",
    "months = 24\n",
    "x24 = np.dot(x0, np.linalg.matrix_power(P_abs, months))\n",
    "print(x24)\n",
    "print(x24[0] + x24[10])"
   ]
  },
  {
   "cell_type": "markdown",
   "metadata": {},
   "source": [
    "### Q4 - Simulation\n",
    "To verify previous code block"
   ]
  },
  {
   "cell_type": "code",
   "execution_count": 6,
   "metadata": {},
   "outputs": [
    {
     "name": "stdout",
     "output_type": "stream",
     "text": [
      "0.9783\n"
     ]
    }
   ],
   "source": [
    "n = 10000\n",
    "end_states = np.zeros(n)\n",
    "month = 0\n",
    "max_months = 24\n",
    "converged = False\n",
    "for i in range(n):\n",
    "    state = 5 \n",
    "    while not converged and month < max_months:\n",
    "        state = np.random.choice(state_space, p=P_abs[state, :])\n",
    "        if state == 0 or state == 10:\n",
    "            end_states[i] = state\n",
    "            converged = True\n",
    "        month += 1\n",
    "    if not converged:\n",
    "        end_states[i] = state\n",
    "    month = 0\n",
    "    converged = False\n",
    "print((sum(end_states == 10) + sum(end_states == 0)) / len(end_states))"
   ]
  },
  {
   "cell_type": "markdown",
   "metadata": {},
   "source": [
    "# Q5"
   ]
  },
  {
   "cell_type": "code",
   "execution_count": 9,
   "metadata": {},
   "outputs": [
    {
     "name": "stdout",
     "output_type": "stream",
     "text": [
      "[[0.144      0.03184552]\n",
      " [0.1296     0.03353857]\n",
      " [0.11664    0.03531583]\n",
      " [0.104976   0.037181  ]\n",
      " [0.0944784  0.03913789]\n",
      " [0.08503056 0.04119045]\n",
      " [0.0765275  0.04334275]\n",
      " [0.06887475 0.04559895]\n",
      " [0.06198728 0.04796334]]\n",
      "[[0.76965139 0.23034861]\n",
      " [0.76472962 0.23527038]\n",
      " [0.76007301 0.23992699]\n",
      " [0.75564643 0.24435357]\n",
      " [0.75141791 0.24858209]\n",
      " [0.7473583  0.2526417 ]\n",
      " [0.74344101 0.25655899]\n",
      " [0.73964171 0.26035829]\n",
      " [0.73593813 0.26406187]]\n",
      "Probability of absorption into state 10 given x0 = 5\n",
      "0.2526416982841323\n"
     ]
    }
   ],
   "source": [
    "P_abs_mod = P_abs.copy()\n",
    "\n",
    "# Move collumn\n",
    "P_abs_mod = np.insert(P_abs_mod, 10, P_abs_mod[:, 0], axis=1)\n",
    "P_abs_mod = np.delete(P_abs_mod, 0, axis=1)\n",
    "# Move row\n",
    "P_abs_mod = np.insert(P_abs_mod, 10, P_abs_mod[0, :], axis=0)\n",
    "P_abs_mod = np.delete(P_abs_mod, 0, axis=0)\n",
    "\n",
    "R = P_abs_mod[:9, -2:]\n",
    "Q = P_abs_mod[:9, :9]\n",
    "print(R)\n",
    "\n",
    "IQ_inv = np.linalg.inv(np.eye(9) - Q)\n",
    "U = np.dot(IQ_inv, R)\n",
    "print(U)\n",
    "\n",
    "print(\"Probability of absorption into state 10 given x0 = 5\")\n",
    "print(U[5, 1])"
   ]
  },
  {
   "cell_type": "markdown",
   "metadata": {},
   "source": [
    "# Q6"
   ]
  },
  {
   "cell_type": "code",
   "execution_count": 12,
   "metadata": {},
   "outputs": [
    {
     "name": "stdout",
     "output_type": "stream",
     "text": [
      "0.9801099133848956\n",
      "CI: 0.9703881203007519 - 0.9881679676629058\n"
     ]
    }
   ],
   "source": [
    "M = 200\n",
    "n = 5000\n",
    "ps = np.zeros(M)\n",
    "for m in range(M):\n",
    "    max_months = 24\n",
    "    succeses = []\n",
    "    for i in range(n):\n",
    "        state = 5 \n",
    "        month = 0\n",
    "        while True:\n",
    "            month += 1\n",
    "            state = np.random.choice(state_space, p=P_abs[state, :])\n",
    "            if state == 0:\n",
    "                break\n",
    "            if state == 10:\n",
    "                succeses.append(month)\n",
    "                break\n",
    "            \n",
    "    succeses = np.array(succeses)\n",
    "    ps[m] = np.sum(succeses <= 24)/ len(succeses)\n",
    "print(np.mean(ps))\n",
    "print(f\"CI: {np.percentile(ps, 2.5)} - {np.percentile(ps, 97.5)}\")\n"
   ]
  }
 ],
 "metadata": {
  "kernelspec": {
   "display_name": "Python 3",
   "language": "python",
   "name": "python3"
  },
  "language_info": {
   "codemirror_mode": {
    "name": "ipython",
    "version": 3
   },
   "file_extension": ".py",
   "mimetype": "text/x-python",
   "name": "python",
   "nbconvert_exporter": "python",
   "pygments_lexer": "ipython3",
   "version": "3.10.11"
  }
 },
 "nbformat": 4,
 "nbformat_minor": 2
}
