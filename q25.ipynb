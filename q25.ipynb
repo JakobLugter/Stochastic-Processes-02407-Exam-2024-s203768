{
 "cells": [
  {
   "cell_type": "markdown",
   "metadata": {},
   "source": [
    "# Question 25"
   ]
  },
  {
   "cell_type": "code",
   "execution_count": 1,
   "metadata": {},
   "outputs": [
    {
     "name": "stdout",
     "output_type": "stream",
     "text": [
      "20.18483939079451\n"
     ]
    }
   ],
   "source": [
    "from scipy.stats import norm\n",
    "import numpy as np\n",
    "\n",
    "alpha = np.log(2) / 2\n",
    "sigsq = np.log(np.sqrt(2) / 100 + 1)\n",
    "ln100 = np.log(100)\n",
    "ln200 = np.log(200)\n",
    "def Dx(x):\n",
    "    if x < ln100:\n",
    "        return 0\n",
    "    if x > ln200:\n",
    "        return 100\n",
    "    else:\n",
    "        return np.exp(x) - 100\n",
    " \n",
    "x = np.log(10)\n",
    "t0 = 0\n",
    "t = 7\n",
    "y = np.log(200)\n",
    "mu = alpha - sigsq / 2\n",
    "p3 = 1 - norm.cdf((y - x - mu * t) / (np.sqrt(sigsq * t)), loc = 0, scale = 1)\n",
    "def custom_cdf(y):\n",
    "    return norm.cdf((y - x - mu * t) / (np.sqrt(sigsq * t)), loc = 0, scale = 1)\n",
    "ys = np.linspace(ln100, ln200, 1000)\n",
    "ws = []\n",
    "for i, y in enumerate(ys[1:]):\n",
    "    py = custom_cdf(y) - custom_cdf(ys[i])\n",
    "    ws.append(py * Dx(ys[i]))\n",
    "ws = np.array(ws)\n",
    "\n",
    "print(np.sum(ws) + Dx(100) * p3)"
   ]
  }
 ],
 "metadata": {
  "kernelspec": {
   "display_name": "Python 3",
   "language": "python",
   "name": "python3"
  },
  "language_info": {
   "codemirror_mode": {
    "name": "ipython",
    "version": 3
   },
   "file_extension": ".py",
   "mimetype": "text/x-python",
   "name": "python",
   "nbconvert_exporter": "python",
   "pygments_lexer": "ipython3",
   "version": "3.10.11"
  }
 },
 "nbformat": 4,
 "nbformat_minor": 2
}
