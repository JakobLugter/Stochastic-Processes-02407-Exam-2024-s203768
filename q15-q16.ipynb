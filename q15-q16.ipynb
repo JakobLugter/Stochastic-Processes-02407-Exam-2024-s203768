{
 "cells": [
  {
   "cell_type": "markdown",
   "metadata": {},
   "source": [
    "# Question 15"
   ]
  },
  {
   "cell_type": "code",
   "execution_count": 1,
   "metadata": {},
   "outputs": [],
   "source": [
    "from scipy.linalg import expm\n",
    "import numpy as np\n",
    "def renewal_pdf(x, lam):\n",
    "    return lam**2 * x * np.exp(-lam * x)\n",
    "\n",
    "def renewal_cdf(x, lam):\n",
    "    return np.exp(-lam * x) * (1 + lam * x)\n",
    "lam = 4.0\n",
    "xs = np.linspace(0, 100, 1000)\n",
    "ps = renewal_pdf(xs, lam) \n",
    "ps = ps / np.sum(ps)\n",
    "\n",
    "def sample_renewal(n):\n",
    "    return np.random.choice(xs, p=ps, size = n)\n",
    "\n",
    "def phase_type_pdf(alpha, S, s ,  t):\n",
    "    mp1 = len(alpha)\n",
    "    return alpha[:(mp1-1)] @ expm(S * t) @ s\n",
    "\n",
    "def phase_type_cdf(alpha, S, t):\n",
    "    mp1 = len(alpha)\n",
    "    one = np.ones(mp1-1)\n",
    "    return 1- alpha[:(mp1-1)] @ (expm(S * t) @ one)\n",
    "\n",
    "def add_phase_type(alpha, S, s, beta, T, t):\n",
    "    m = len(alpha)-1\n",
    "    k = len(beta)-1\n",
    "    print(m, k)\n",
    "    L = np.zeros((m + k, m + k))\n",
    "    l = np.zeros(m + k)\n",
    "    L[:m, :m] = S\n",
    "    L[m:, :m] = np.outer(s, beta[:k])\n",
    "    L[m:, m:] = T\n",
    "    L[:m, m:] = np.zeros((k, m))\n",
    "    l[:m] = s * beta[-1]\n",
    "    l[m:] = t\n",
    "    alpha = np.catenatecon([alpha[:m], alpha[-1] * beta])\n",
    "    return alpha, L, l\n",
    "\n",
    "alpha = np.array([1/4, 3/4, 0])\n",
    "lambda_s = 1/3\n",
    "lambda_u = 4\n",
    "S = np.array([[-lambda_s, 0], [0, -lambda_u]])\n",
    "s = np.array([lambda_s, lambda_u])\n",
    "\n",
    "ts = np.linspace(0, 100, 10000)\n",
    "ps_phase = np.zeros(len(ts))\n",
    "for i, time in enumerate(ts):\n",
    "    ps_phase[i] = phase_type_pdf(alpha, S, s, time)\n",
    "ps_phase = ps_phase / np.sum(ps_phase)\n",
    "\n",
    "def sample_phase_type(ts = ts, ps = ps_phase, n=1):\n",
    "    return np.random.choice(ts, p=ps, size = n)\n",
    "\n",
    "\n",
    "def check_phase_type(k_max, max_time, n = 500):\n",
    "    succeses = np.zeros(k_max+1)\n",
    "\n",
    "    for i in range(n):\n",
    "        for k in range(0, k_max+1):\n",
    "            time = 0\n",
    "            admissions = 0\n",
    "            extra_care_times = sample_renewal(k)\n",
    "            for phase_change in extra_care_times:\n",
    "                time += phase_change\n",
    "                if time > max_time:\n",
    "                    break\n",
    "                # Sample time to absorption in PH\n",
    "                time_to_absorption = sample_phase_type()\n",
    "                time += time_to_absorption\n",
    "                if time > max_time:\n",
    "                    break\n",
    "                admissions += 1\n",
    "            if admissions == k:\n",
    "                # Sample once more to ensure that we actually have k admissions and not k+1\n",
    "                extra_care_time = sample_renewal(1)\n",
    "                time_to_absorption = sample_phase_type()\n",
    "                if extra_care_time + time_to_absorption + time > max_time:\n",
    "                    succeses[k] += 1\n",
    "    return succeses"
   ]
  },
  {
   "cell_type": "code",
   "execution_count": 2,
   "metadata": {},
   "outputs": [
    {
     "name": "stdout",
     "output_type": "stream",
     "text": [
      "Probability of 25 or more admissions in 3 years\n",
      "0.5640000000000001\n"
     ]
    }
   ],
   "source": [
    "succeses = check_phase_type(24, 36)\n",
    "\n",
    "pss = succeses / 500\n",
    "p_25_or_more = 1 - np.sum(pss)\n",
    "print(\"Probability of 25 or more admissions in 3 years\")\n",
    "print(p_25_or_more)"
   ]
  },
  {
   "cell_type": "markdown",
   "metadata": {},
   "source": [
    "# Qustion 16"
   ]
  },
  {
   "cell_type": "code",
   "execution_count": 3,
   "metadata": {},
   "outputs": [
    {
     "name": "stdout",
     "output_type": "stream",
     "text": [
      "0.5891992122483458 0.806\n",
      "0.3174777471184864\n",
      "[0.8 0.2]\n"
     ]
    }
   ],
   "source": [
    "lengths = np.array([1/2, 3 * 1/4, 1/4 * 3/4])\n",
    "p = lengths / np.sum(lengths)\n",
    "p2 = lengths[1:] / np.sum(lengths[1:])\n",
    "S = np.array([[-lambda_s, 0], [0, -lambda_u]])\n",
    "s = np.array([lambda_s, lambda_u])\n",
    "alpha_new = np.array([p2[0], p2[1] , 0])\n",
    "\n",
    "P = phase_type_cdf(alpha_new, S, 2) #P(X <= 2)\n",
    "P2 = check_phase_type(0, 2) \n",
    "print(P, 1-P2[0] / 500)\n",
    "print((1-p[0]) * P + (1-P2[0])/500 * p[0])\n",
    "print(p2)"
   ]
  }
 ],
 "metadata": {
  "kernelspec": {
   "display_name": "Python 3",
   "language": "python",
   "name": "python3"
  },
  "language_info": {
   "codemirror_mode": {
    "name": "ipython",
    "version": 3
   },
   "file_extension": ".py",
   "mimetype": "text/x-python",
   "name": "python",
   "nbconvert_exporter": "python",
   "pygments_lexer": "ipython3",
   "version": "3.10.11"
  }
 },
 "nbformat": 4,
 "nbformat_minor": 2
}
