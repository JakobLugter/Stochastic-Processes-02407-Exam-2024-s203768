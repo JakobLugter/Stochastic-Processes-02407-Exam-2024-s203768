{
 "cells": [
  {
   "cell_type": "markdown",
   "metadata": {},
   "source": [
    "# Question 9\n",
    "Verification of theoritical result via simulation"
   ]
  },
  {
   "cell_type": "code",
   "execution_count": 2,
   "metadata": {},
   "outputs": [
    {
     "name": "stdout",
     "output_type": "stream",
     "text": [
      "2.459966666666667\n",
      "2.6666666666666665\n"
     ]
    }
   ],
   "source": [
    "import numpy as np\n",
    "max_time = 50000\n",
    "arrival_rate = 1/3\n",
    "service_rate = 1/8\n",
    "patients = 0\n",
    "num_patients = np.zeros(max_time)\n",
    "step = 1/200\n",
    "\n",
    "for i in range(max_time):\n",
    "    p_arrival = arrival_rate * step\n",
    "    p_service = service_rate * step * patients\n",
    "    if np.random.rand() < p_arrival:\n",
    "        patients += 1\n",
    "    if np.random.rand() < p_service:\n",
    "        patients -= 1\n",
    "    num_patients[i] = patients\n",
    "print(num_patients[20000:].mean())\n",
    "print(8/3)\n"
   ]
  }
 ],
 "metadata": {
  "kernelspec": {
   "display_name": "Python 3",
   "language": "python",
   "name": "python3"
  },
  "language_info": {
   "codemirror_mode": {
    "name": "ipython",
    "version": 3
   },
   "file_extension": ".py",
   "mimetype": "text/x-python",
   "name": "python",
   "nbconvert_exporter": "python",
   "pygments_lexer": "ipython3",
   "version": "3.10.11"
  }
 },
 "nbformat": 4,
 "nbformat_minor": 2
}
