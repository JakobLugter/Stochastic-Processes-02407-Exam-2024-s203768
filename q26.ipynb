{
 "cells": [
  {
   "cell_type": "markdown",
   "metadata": {},
   "source": [
    "# Question 26"
   ]
  },
  {
   "cell_type": "code",
   "execution_count": 1,
   "metadata": {},
   "outputs": [
    {
     "name": "stdout",
     "output_type": "stream",
     "text": [
      "4.0\n",
      "0.03880275184569817\n"
     ]
    }
   ],
   "source": [
    "import numpy as np\n",
    "from scipy.stats import norm\n",
    "\n",
    "pr = 1 - 0.126\n",
    "beta = -np.log(3/4)\n",
    "y = 20\n",
    "x = 20\n",
    "t = 1\n",
    "sigs_to_test = np.linspace(0.01, 4, 1000)\n",
    "term1 = np.sqrt(2 * beta) * (y - x*np.exp(-beta * t))\n",
    "term2 = np.sqrt(1 - np.exp(-2 * beta * t))\n",
    "ps = norm.cdf(term1 / (term2 * sigs_to_test) , loc = 0, scale = 1)\n",
    "\n",
    "idx = np.argmin(np.abs(ps - pr))\n",
    "print(sigs_to_test[idx])\n",
    "sigma = sigs_to_test[idx]\n",
    "\n",
    "\n",
    "t = 3\n",
    "y1 = 0\n",
    "y2 = -20\n",
    "term11 = np.sqrt(2 * beta) * (y1 - x*np.exp(-beta * t))\n",
    "term12 = np.sqrt(2 * beta) * (y2 - x*np.exp(-beta * t))\n",
    "term2 = np.sqrt(1 - np.exp(-2 * beta * t))\n",
    "p1 = norm.cdf(term11 / (term2 * sigma) , loc = 0, scale = 1)\n",
    "p2 = norm.cdf(term12 / (term2 * sigma) , loc = 0, scale = 1)\n",
    "print(p1 - p2)"
   ]
  }
 ],
 "metadata": {
  "kernelspec": {
   "display_name": "Python 3",
   "language": "python",
   "name": "python3"
  },
  "language_info": {
   "codemirror_mode": {
    "name": "ipython",
    "version": 3
   },
   "file_extension": ".py",
   "mimetype": "text/x-python",
   "name": "python",
   "nbconvert_exporter": "python",
   "pygments_lexer": "ipython3",
   "version": "3.10.11"
  }
 },
 "nbformat": 4,
 "nbformat_minor": 2
}
