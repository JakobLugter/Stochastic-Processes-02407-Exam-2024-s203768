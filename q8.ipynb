{
 "cells": [
  {
   "cell_type": "markdown",
   "metadata": {},
   "source": [
    "# Question 8\n",
    "Theory of the expectation and variance of time from state i to k borrowed from\n",
    "*Introduction to Probability Models Sheldon Ross 11th Edition*"
   ]
  },
  {
   "cell_type": "code",
   "execution_count": 1,
   "metadata": {},
   "outputs": [
    {
     "name": "stdout",
     "output_type": "stream",
     "text": [
      "Mean time to reach state 6\n",
      "77.200927734375\n",
      "Variance of time to reach state 6\n",
      "4485.029141485691\n",
      "Standard deviation of time to reach state 6\n",
      "66.97036017138993\n"
     ]
    }
   ],
   "source": [
    "import numpy as np\n",
    "lam = 1/3\n",
    "mu = 1/8\n",
    "\n",
    "def get_mui(i):\n",
    "    return mu * i\n",
    "def getEI(i, Ts):\n",
    "    if i == 0:\n",
    "        return Ts[0]\n",
    "    mu_i = get_mui(i)\n",
    "    return (1/lam) + mu_i/lam * Ts[i-1]\n",
    "\n",
    "def getVarI(i, varTs, Ts):\n",
    "    mui = get_mui(i)\n",
    "    term1 = 1 / (lam * (lam + mui)) \n",
    "    term2 = mui/lam * varTs[i-1]\n",
    "    term3  = mui / (mui + lam) * (Ts[i] + Ts[i-1])**2\n",
    "    return term1 + term2 + term3\n",
    "\n",
    "Ts = np.zeros(6)\n",
    "varTs = np.zeros(6)\n",
    "\n",
    "Ts[0] = 1 / lam\n",
    "varTs[0] = 1 / (lam**2)\n",
    "\n",
    "for i in range(1, 6):\n",
    "    Ts[i] = getEI(i, Ts)\n",
    "    varTs[i] = getVarI(i, varTs, Ts)\n",
    "\n",
    "print(\"Mean time to reach state 6\")\n",
    "print(np.sum(Ts))\n",
    "print(\"Variance of time to reach state 6\")\n",
    "print(np.sum(varTs))\n",
    "print(\"Standard deviation of time to reach state 6\")\n",
    "print(np.sqrt(np.sum(varTs)))"
   ]
  }
 ],
 "metadata": {
  "kernelspec": {
   "display_name": "Python 3",
   "language": "python",
   "name": "python3"
  },
  "language_info": {
   "codemirror_mode": {
    "name": "ipython",
    "version": 3
   },
   "file_extension": ".py",
   "mimetype": "text/x-python",
   "name": "python",
   "nbconvert_exporter": "python",
   "pygments_lexer": "ipython3",
   "version": "3.10.11"
  }
 },
 "nbformat": 4,
 "nbformat_minor": 2
}
