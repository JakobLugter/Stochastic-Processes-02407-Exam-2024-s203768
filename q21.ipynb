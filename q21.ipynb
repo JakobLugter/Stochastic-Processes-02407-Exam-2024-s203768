{
 "cells": [
  {
   "cell_type": "markdown",
   "metadata": {},
   "source": [
    "# Question 21"
   ]
  },
  {
   "cell_type": "code",
   "execution_count": 4,
   "metadata": {},
   "outputs": [
    {
     "name": "stdout",
     "output_type": "stream",
     "text": [
      "0.32562659181176407\n"
     ]
    }
   ],
   "source": [
    "import numpy as np\n",
    "\n",
    "x_min = -4      \n",
    "x_max = 4        \n",
    "t_max = 20      \n",
    "dx = 0.1         \n",
    "dt = 0.01       \n",
    "r = dt / (2 * dx**2)      \n",
    "\n",
    "# Create grid\n",
    "x = np.arange(x_min, x_max + dx, dx)\n",
    "t = np.arange(0, t_max + dt, dt)[::-1] # Timereversed\n",
    "u = np.zeros((len(t), len(x)))\n",
    "\n",
    "# Condidtions:\n",
    "# Probability of being below -1 is 1\n",
    "# Probability of being above -1 is 0\n",
    "u[0, :] = np.where(x < -1, 1, 0)\n",
    "\n",
    "# Reflecting boundary at x = 4: u(4, t) = 0 for all t\n",
    "reflecting_index = np.argmin(np.abs(x - 4))\n",
    "\n",
    "# Backward iteration\n",
    "for n in range(len(t) - 1):\n",
    "    u[n + 1, 1:-1] = u[n, 1:-1] + r * (u[n, :-2] - 2 * u[n, 1:-1] + u[n, 2:])\n",
    "    u[n + 1, reflecting_index] = 0\n",
    "    u[n + 1, 0] = u[n + 1, 1]\n",
    "\n",
    "print(u[-1, 40])"
   ]
  }
 ],
 "metadata": {
  "kernelspec": {
   "display_name": "Python 3",
   "language": "python",
   "name": "python3"
  },
  "language_info": {
   "codemirror_mode": {
    "name": "ipython",
    "version": 3
   },
   "file_extension": ".py",
   "mimetype": "text/x-python",
   "name": "python",
   "nbconvert_exporter": "python",
   "pygments_lexer": "ipython3",
   "version": "3.10.11"
  }
 },
 "nbformat": 4,
 "nbformat_minor": 2
}
