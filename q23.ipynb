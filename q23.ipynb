{
 "cells": [
  {
   "cell_type": "markdown",
   "metadata": {},
   "source": [
    "# Question 23"
   ]
  },
  {
   "cell_type": "code",
   "execution_count": 2,
   "metadata": {},
   "outputs": [
    {
     "data": {
      "text/plain": [
       "2.7286504665953267e-08"
      ]
     },
     "execution_count": 2,
     "metadata": {},
     "output_type": "execute_result"
    }
   ],
   "source": [
    "import numpy as np\n",
    "from scipy.stats import multivariate_normal as mvn\n",
    "a = 6\n",
    "b = 6\n",
    "limit = 0\n",
    "sigma = 2\n",
    "t1 = 0\n",
    "t2 = 2\n",
    "\n",
    "# Scale such variance and time is 1 and a and b are 0\n",
    "a = 0\n",
    "b = 0\n",
    "limit = limit - 6 / (2 * np.sqrt(sigma))\n",
    "t1 = 0\n",
    "t2 = 1\n",
    "\n",
    "def variance(t):\n",
    "    return t * (1 - t)\n",
    "def covariance(t,s):\n",
    "    ''''0 < s < t < 1'''\n",
    "    return s * (1 - t)\n",
    "s = 0.5\n",
    "t = 0.75\n",
    "vs = variance(s)\n",
    "vt = variance(t)\n",
    "cov = covariance(t, s)\n",
    "cov_matrix = np.array([[vs, cov], [cov, vt]])\n",
    "mean = np.array([0, 0])\n",
    "\n",
    "mvn.cdf([limit, limit], mean = mean, cov = cov_matrix)"
   ]
  }
 ],
 "metadata": {
  "kernelspec": {
   "display_name": "Python 3",
   "language": "python",
   "name": "python3"
  },
  "language_info": {
   "codemirror_mode": {
    "name": "ipython",
    "version": 3
   },
   "file_extension": ".py",
   "mimetype": "text/x-python",
   "name": "python",
   "nbconvert_exporter": "python",
   "pygments_lexer": "ipython3",
   "version": "3.10.11"
  }
 },
 "nbformat": 4,
 "nbformat_minor": 2
}
