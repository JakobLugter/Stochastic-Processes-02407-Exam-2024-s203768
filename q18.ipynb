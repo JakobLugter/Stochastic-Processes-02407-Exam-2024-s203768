{
 "cells": [
  {
   "cell_type": "markdown",
   "metadata": {},
   "source": [
    "# Qustion 18"
   ]
  },
  {
   "cell_type": "code",
   "execution_count": 1,
   "metadata": {},
   "outputs": [
    {
     "name": "stdout",
     "output_type": "stream",
     "text": [
      "[0.28962188 0.43443282 0.10860821 0.01448109 0.02413516 0.12872084]\n",
      "0.16733708769107\n",
      "0.12872083668543846\n"
     ]
    }
   ],
   "source": [
    "import numpy as np\n",
    "Q = np.array([\n",
    "    [-1/3, 0, 1/3, 0, 0, 0],\n",
    "    [0, -4, 4, 0, 0, 0],\n",
    "    [0, 0, -40, 10, 20, 10],\n",
    "    [0, 0, 0, -6, 4, 2],\n",
    "    [0, 0, 0, 0, -3, 3],\n",
    "    [0, 0, 0, 0, 0, 0]\n",
    "])\n",
    "S = Q[:-1, :-1]\n",
    "U = np.linalg.inv(-S)\n",
    "t1 = U[0,:]\n",
    "t2 = U[1,:]\n",
    "ec = 1/2\n",
    "t = t1 * 1/4 + t2 * 3/4\n",
    "t = np.concatenate([[ec], t])\n",
    "percentage_time = t / np.sum(t)\n",
    "percent_time_in_hospital = np.sum(percentage_time[3:])\n",
    "print(percentage_time)\n",
    "percent_time_in_gw = percentage_time[-1]\n",
    "print(percent_time_in_hospital)\n",
    "print(percent_time_in_gw)"
   ]
  }
 ],
 "metadata": {
  "kernelspec": {
   "display_name": "Python 3",
   "language": "python",
   "name": "python3"
  },
  "language_info": {
   "codemirror_mode": {
    "name": "ipython",
    "version": 3
   },
   "file_extension": ".py",
   "mimetype": "text/x-python",
   "name": "python",
   "nbconvert_exporter": "python",
   "pygments_lexer": "ipython3",
   "version": "3.10.11"
  }
 },
 "nbformat": 4,
 "nbformat_minor": 2
}
