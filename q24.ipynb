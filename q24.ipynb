{
 "cells": [
  {
   "cell_type": "markdown",
   "metadata": {},
   "source": [
    "# Question 24"
   ]
  },
  {
   "cell_type": "code",
   "execution_count": 1,
   "metadata": {},
   "outputs": [
    {
     "name": "stdout",
     "output_type": "stream",
     "text": [
      "1.9878326863702966\n"
     ]
    }
   ],
   "source": [
    "import numpy as np\n",
    "sigsq = 4\n",
    "a = 0\n",
    "b = 10\n",
    "x = 6\n",
    "mu = 2\n",
    "\n",
    "def u(x):\n",
    "    return (np.exp(-2 * mu * x / sigsq) - np.exp(-2 * mu * a / sigsq)) / (np.exp(-2 * mu * b / sigsq) - np.exp(-2 * mu * a / sigsq))\n",
    "\n",
    "def tab(x, a, b):\n",
    "    ux = u(x)\n",
    "    return (ux * (b - a) - (x - a))/ mu\n",
    "\n",
    "print(tab(x, a, b))"
   ]
  }
 ],
 "metadata": {
  "kernelspec": {
   "display_name": "Python 3",
   "language": "python",
   "name": "python3"
  },
  "language_info": {
   "codemirror_mode": {
    "name": "ipython",
    "version": 3
   },
   "file_extension": ".py",
   "mimetype": "text/x-python",
   "name": "python",
   "nbconvert_exporter": "python",
   "pygments_lexer": "ipython3",
   "version": "3.10.11"
  }
 },
 "nbformat": 4,
 "nbformat_minor": 2
}
