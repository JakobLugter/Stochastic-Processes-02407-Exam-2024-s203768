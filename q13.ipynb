{
 "cells": [
  {
   "cell_type": "markdown",
   "metadata": {},
   "source": [
    "# Question 13"
   ]
  },
  {
   "cell_type": "code",
   "execution_count": 1,
   "metadata": {},
   "outputs": [
    {
     "name": "stdout",
     "output_type": "stream",
     "text": [
      "0.34375000000000006\n"
     ]
    }
   ],
   "source": [
    "from scipy.stats import binom\n",
    "b = binom.pmf(4, 6, 0.5) + binom.pmf(5, 6, 0.5) + binom.pmf(6, 6, 0.5)\n",
    "print(b)"
   ]
  },
  {
   "cell_type": "markdown",
   "metadata": {},
   "source": [
    "### Verification via simulation"
   ]
  },
  {
   "cell_type": "code",
   "execution_count": 2,
   "metadata": {},
   "outputs": [
    {
     "name": "stdout",
     "output_type": "stream",
     "text": [
      "0.33237492811960895\n"
     ]
    }
   ],
   "source": [
    "import numpy as np\n",
    "step_time = 1 # Day\n",
    "rate = 4 / 365 # 4 days in a year\n",
    "admission_days = []\n",
    "mean_admissions_per_year = []\n",
    "n = 50000\n",
    "for i in range(n):\n",
    "    admission_days = []\n",
    "    for day in range(1, 365):\n",
    "        if np.random.rand() < rate:\n",
    "            admission_days.append(day)\n",
    "    # Find number of admissions in the last 6 months\n",
    "    if len(admission_days) == 6:\n",
    "        admission_days = np.array(admission_days)\n",
    "        admission_days_2nd_half = admission_days[admission_days > 183]\n",
    "        mean_admissions_per_year.append( len(admission_days_2nd_half))\n",
    "\n",
    "# How many had 6 or more admissions in the 1st 6 months\n",
    "mean_admissions_per_year = np.array(mean_admissions_per_year)\n",
    "print(np.sum(mean_admissions_per_year >= 4) / len(mean_admissions_per_year))"
   ]
  }
 ],
 "metadata": {
  "kernelspec": {
   "display_name": "Python 3",
   "language": "python",
   "name": "python3"
  },
  "language_info": {
   "codemirror_mode": {
    "name": "ipython",
    "version": 3
   },
   "file_extension": ".py",
   "mimetype": "text/x-python",
   "name": "python",
   "nbconvert_exporter": "python",
   "pygments_lexer": "ipython3",
   "version": "3.10.11"
  }
 },
 "nbformat": 4,
 "nbformat_minor": 2
}
